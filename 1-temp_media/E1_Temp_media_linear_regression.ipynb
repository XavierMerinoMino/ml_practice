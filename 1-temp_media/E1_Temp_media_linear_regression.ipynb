{
 "cells": [
  {
   "cell_type": "markdown",
   "id": "e7124ab7-7cb2-41c0-b3b4-8fe99bd92dea",
   "metadata": {},
   "source": [
    "# Exercise 1: Predict Temp Linear regression"
   ]
  },
  {
   "cell_type": "code",
   "execution_count": 1,
   "id": "e4e0c4d4-7dc8-4957-807d-92a1f499713b",
   "metadata": {},
   "outputs": [],
   "source": [
    "import numpy as np\n",
    "import pandas as pd\n",
    "import matplotlib.pyplot as plt\n",
    "import math, copy\n",
    "plt.style.use('./deeplearning.mplstyle')"
   ]
  },
  {
   "cell_type": "markdown",
   "id": "b257b384-55d3-4681-831d-898de0e01df0",
   "metadata": {},
   "source": [
    "## Reading csv with Numpy"
   ]
  },
  {
   "cell_type": "code",
   "execution_count": 2,
   "id": "1215f99c-541d-4feb-81b6-744b155c9ba3",
   "metadata": {},
   "outputs": [
    {
     "data": {
      "text/plain": [
       "array(['M0001', 'INGUINCHO', '-78,408', '0,2575', '3140', '1978', '10',\n",
       "       '10,8', '10,2', '10,3', '10,2', '9,5', '9,2', '9,3', '9,7', '9,6',\n",
       "       '11,3', '10,2'], dtype='<U24')"
      ]
     },
     "metadata": {},
     "output_type": "display_data"
    }
   ],
   "source": [
    "# read csv with numpy\n",
    "# using loadtxt()\n",
    "arr_np = np.genfromtxt(\"inamhi-temperaturamedia-201912.csv\",\n",
    "                    delimiter=\";\", max_rows=1000, encoding='latin1', skip_header=1, dtype='str')\n",
    "display(arr_np[0])"
   ]
  },
  {
   "cell_type": "markdown",
   "id": "ce65abee-ef67-4022-8b5e-1f7f82ce8dd9",
   "metadata": {},
   "source": [
    "## Reading csv with Pandas"
   ]
  },
  {
   "cell_type": "code",
   "execution_count": 3,
   "id": "85e99e37-e079-46c2-84c0-0792ccbf23f4",
   "metadata": {},
   "outputs": [
    {
     "data": {
      "text/plain": [
       "(100, 18)"
      ]
     },
     "execution_count": 3,
     "metadata": {},
     "output_type": "execute_result"
    }
   ],
   "source": [
    "ar = \"inamhi-temperaturamedia-201912.csv\"\n",
    "df =pd.read_csv(ar,sep=';',nrows=100, encoding='latin1', decimal=',') \n",
    "# show\n",
    "df.shape"
   ]
  },
  {
   "cell_type": "code",
   "execution_count": 4,
   "id": "faef43f9-f60a-4782-a3f4-0a99bd5fa925",
   "metadata": {},
   "outputs": [
    {
     "data": {
      "text/html": [
       "<div>\n",
       "<style scoped>\n",
       "    .dataframe tbody tr th:only-of-type {\n",
       "        vertical-align: middle;\n",
       "    }\n",
       "\n",
       "    .dataframe tbody tr th {\n",
       "        vertical-align: top;\n",
       "    }\n",
       "\n",
       "    .dataframe thead th {\n",
       "        text-align: right;\n",
       "    }\n",
       "</style>\n",
       "<table border=\"1\" class=\"dataframe\">\n",
       "  <thead>\n",
       "    <tr style=\"text-align: right;\">\n",
       "      <th></th>\n",
       "      <th>Estacion</th>\n",
       "      <th>NombreEstacion</th>\n",
       "      <th>longitud2</th>\n",
       "      <th>latitud2</th>\n",
       "      <th>altitud</th>\n",
       "      <th>anio</th>\n",
       "      <th>ene</th>\n",
       "      <th>feb</th>\n",
       "      <th>mar</th>\n",
       "      <th>abr</th>\n",
       "      <th>may</th>\n",
       "      <th>jun</th>\n",
       "      <th>jul</th>\n",
       "      <th>ago</th>\n",
       "      <th>sep</th>\n",
       "      <th>oct</th>\n",
       "      <th>nov</th>\n",
       "      <th>dic</th>\n",
       "    </tr>\n",
       "  </thead>\n",
       "  <tbody>\n",
       "    <tr>\n",
       "      <th>0</th>\n",
       "      <td>M0001</td>\n",
       "      <td>INGUINCHO</td>\n",
       "      <td>-78.408</td>\n",
       "      <td>0.2575</td>\n",
       "      <td>3140</td>\n",
       "      <td>1978</td>\n",
       "      <td>10.0</td>\n",
       "      <td>10.8</td>\n",
       "      <td>10.2</td>\n",
       "      <td>10.3</td>\n",
       "      <td>10.2</td>\n",
       "      <td>9.5</td>\n",
       "      <td>9.2</td>\n",
       "      <td>9.3</td>\n",
       "      <td>9.7</td>\n",
       "      <td>9.6</td>\n",
       "      <td>11.3</td>\n",
       "      <td>10.2</td>\n",
       "    </tr>\n",
       "    <tr>\n",
       "      <th>1</th>\n",
       "      <td>M0001</td>\n",
       "      <td>INGUINCHO</td>\n",
       "      <td>-78.408</td>\n",
       "      <td>0.2575</td>\n",
       "      <td>3140</td>\n",
       "      <td>1979</td>\n",
       "      <td>10.3</td>\n",
       "      <td>10.3</td>\n",
       "      <td>10.3</td>\n",
       "      <td>10.4</td>\n",
       "      <td>10.3</td>\n",
       "      <td>10.0</td>\n",
       "      <td>9.6</td>\n",
       "      <td>9.5</td>\n",
       "      <td>10.2</td>\n",
       "      <td>10.3</td>\n",
       "      <td>10.3</td>\n",
       "      <td>10.3</td>\n",
       "    </tr>\n",
       "    <tr>\n",
       "      <th>2</th>\n",
       "      <td>M0001</td>\n",
       "      <td>INGUINCHO</td>\n",
       "      <td>-78.408</td>\n",
       "      <td>0.2575</td>\n",
       "      <td>3140</td>\n",
       "      <td>1980</td>\n",
       "      <td>10.6</td>\n",
       "      <td>10.0</td>\n",
       "      <td>10.4</td>\n",
       "      <td>10.5</td>\n",
       "      <td>10.5</td>\n",
       "      <td>10.1</td>\n",
       "      <td>9.7</td>\n",
       "      <td>9.6</td>\n",
       "      <td>10.4</td>\n",
       "      <td>10.3</td>\n",
       "      <td>10.4</td>\n",
       "      <td>10.3</td>\n",
       "    </tr>\n",
       "    <tr>\n",
       "      <th>3</th>\n",
       "      <td>M0001</td>\n",
       "      <td>INGUINCHO</td>\n",
       "      <td>-78.408</td>\n",
       "      <td>0.2575</td>\n",
       "      <td>3140</td>\n",
       "      <td>1981</td>\n",
       "      <td>10.3</td>\n",
       "      <td>10.5</td>\n",
       "      <td>10.5</td>\n",
       "      <td>10.6</td>\n",
       "      <td>10.3</td>\n",
       "      <td>9.9</td>\n",
       "      <td>9.3</td>\n",
       "      <td>9.7</td>\n",
       "      <td>10.0</td>\n",
       "      <td>10.5</td>\n",
       "      <td>10.1</td>\n",
       "      <td>10.3</td>\n",
       "    </tr>\n",
       "    <tr>\n",
       "      <th>4</th>\n",
       "      <td>M0001</td>\n",
       "      <td>INGUINCHO</td>\n",
       "      <td>-78.408</td>\n",
       "      <td>0.2575</td>\n",
       "      <td>3140</td>\n",
       "      <td>1982</td>\n",
       "      <td>9.9</td>\n",
       "      <td>10.4</td>\n",
       "      <td>10.3</td>\n",
       "      <td>10.4</td>\n",
       "      <td>10.4</td>\n",
       "      <td>10.2</td>\n",
       "      <td>9.4</td>\n",
       "      <td>9.5</td>\n",
       "      <td>10.1</td>\n",
       "      <td>10.0</td>\n",
       "      <td>10.7</td>\n",
       "      <td>10.7</td>\n",
       "    </tr>\n",
       "  </tbody>\n",
       "</table>\n",
       "</div>"
      ],
      "text/plain": [
       "  Estacion NombreEstacion  longitud2  latitud2  altitud  anio   ene   feb   \n",
       "0    M0001      INGUINCHO    -78.408    0.2575     3140  1978  10.0  10.8  \\\n",
       "1    M0001      INGUINCHO    -78.408    0.2575     3140  1979  10.3  10.3   \n",
       "2    M0001      INGUINCHO    -78.408    0.2575     3140  1980  10.6  10.0   \n",
       "3    M0001      INGUINCHO    -78.408    0.2575     3140  1981  10.3  10.5   \n",
       "4    M0001      INGUINCHO    -78.408    0.2575     3140  1982   9.9  10.4   \n",
       "\n",
       "    mar   abr   may   jun  jul  ago   sep   oct   nov   dic  \n",
       "0  10.2  10.3  10.2   9.5  9.2  9.3   9.7   9.6  11.3  10.2  \n",
       "1  10.3  10.4  10.3  10.0  9.6  9.5  10.2  10.3  10.3  10.3  \n",
       "2  10.4  10.5  10.5  10.1  9.7  9.6  10.4  10.3  10.4  10.3  \n",
       "3  10.5  10.6  10.3   9.9  9.3  9.7  10.0  10.5  10.1  10.3  \n",
       "4  10.3  10.4  10.4  10.2  9.4  9.5  10.1  10.0  10.7  10.7  "
      ]
     },
     "execution_count": 4,
     "metadata": {},
     "output_type": "execute_result"
    }
   ],
   "source": [
    "# shows first x rows\n",
    "df.head(5)"
   ]
  },
  {
   "cell_type": "code",
   "execution_count": 5,
   "id": "06ebe8bc-3c41-441f-b2b6-ffd904f7e63e",
   "metadata": {},
   "outputs": [
    {
     "name": "stdout",
     "output_type": "stream",
     "text": [
      "<class 'pandas.core.frame.DataFrame'>\n",
      "RangeIndex: 100 entries, 0 to 99\n",
      "Data columns (total 18 columns):\n",
      " #   Column          Non-Null Count  Dtype  \n",
      "---  ------          --------------  -----  \n",
      " 0   Estacion        100 non-null    object \n",
      " 1   NombreEstacion  100 non-null    object \n",
      " 2   longitud2       100 non-null    float64\n",
      " 3   latitud2        100 non-null    float64\n",
      " 4   altitud         100 non-null    int64  \n",
      " 5   anio            100 non-null    int64  \n",
      " 6   ene             98 non-null     float64\n",
      " 7   feb             98 non-null     float64\n",
      " 8   mar             100 non-null    float64\n",
      " 9   abr             100 non-null    float64\n",
      " 10  may             100 non-null    float64\n",
      " 11  jun             100 non-null    float64\n",
      " 12  jul             100 non-null    float64\n",
      " 13  ago             100 non-null    float64\n",
      " 14  sep             100 non-null    float64\n",
      " 15  oct             99 non-null     float64\n",
      " 16  nov             99 non-null     float64\n",
      " 17  dic             100 non-null    float64\n",
      "dtypes: float64(14), int64(2), object(2)\n",
      "memory usage: 14.2+ KB\n"
     ]
    }
   ],
   "source": [
    "# show dataframe info\n",
    "df.info()"
   ]
  },
  {
   "cell_type": "code",
   "execution_count": 6,
   "id": "64fcee00-5e80-4190-a9e1-1f4119306456",
   "metadata": {},
   "outputs": [
    {
     "data": {
      "text/html": [
       "<div>\n",
       "<style scoped>\n",
       "    .dataframe tbody tr th:only-of-type {\n",
       "        vertical-align: middle;\n",
       "    }\n",
       "\n",
       "    .dataframe tbody tr th {\n",
       "        vertical-align: top;\n",
       "    }\n",
       "\n",
       "    .dataframe thead th {\n",
       "        text-align: right;\n",
       "    }\n",
       "</style>\n",
       "<table border=\"1\" class=\"dataframe\">\n",
       "  <thead>\n",
       "    <tr style=\"text-align: right;\">\n",
       "      <th></th>\n",
       "      <th>Estacion</th>\n",
       "      <th>NombreEstacion</th>\n",
       "      <th>longitud2</th>\n",
       "      <th>latitud2</th>\n",
       "      <th>altitud</th>\n",
       "      <th>anio</th>\n",
       "      <th>ene</th>\n",
       "      <th>feb</th>\n",
       "      <th>mar</th>\n",
       "      <th>abr</th>\n",
       "      <th>may</th>\n",
       "      <th>jun</th>\n",
       "      <th>jul</th>\n",
       "      <th>ago</th>\n",
       "      <th>sep</th>\n",
       "      <th>oct</th>\n",
       "      <th>nov</th>\n",
       "      <th>dic</th>\n",
       "    </tr>\n",
       "  </thead>\n",
       "  <tbody>\n",
       "    <tr>\n",
       "      <th>42</th>\n",
       "      <td>M0002</td>\n",
       "      <td>LA TOLA</td>\n",
       "      <td>-78.3704</td>\n",
       "      <td>-0.231800</td>\n",
       "      <td>2480</td>\n",
       "      <td>1980</td>\n",
       "      <td>NaN</td>\n",
       "      <td>NaN</td>\n",
       "      <td>16.5</td>\n",
       "      <td>16.0</td>\n",
       "      <td>16.2</td>\n",
       "      <td>16.6</td>\n",
       "      <td>16.2</td>\n",
       "      <td>16.2</td>\n",
       "      <td>16.5</td>\n",
       "      <td>15.7</td>\n",
       "      <td>15.0</td>\n",
       "      <td>15.5</td>\n",
       "    </tr>\n",
       "    <tr>\n",
       "      <th>82</th>\n",
       "      <td>M0003</td>\n",
       "      <td>IZOBAMBA</td>\n",
       "      <td>-78.5550</td>\n",
       "      <td>-0.365833</td>\n",
       "      <td>3058</td>\n",
       "      <td>1962</td>\n",
       "      <td>NaN</td>\n",
       "      <td>11.4</td>\n",
       "      <td>11.0</td>\n",
       "      <td>11.2</td>\n",
       "      <td>11.2</td>\n",
       "      <td>10.5</td>\n",
       "      <td>11.5</td>\n",
       "      <td>11.1</td>\n",
       "      <td>12.0</td>\n",
       "      <td>11.7</td>\n",
       "      <td>11.4</td>\n",
       "      <td>11.1</td>\n",
       "    </tr>\n",
       "  </tbody>\n",
       "</table>\n",
       "</div>"
      ],
      "text/plain": [
       "   Estacion NombreEstacion  longitud2  latitud2  altitud  anio  ene   feb   \n",
       "42    M0002        LA TOLA   -78.3704 -0.231800     2480  1980  NaN   NaN  \\\n",
       "82    M0003       IZOBAMBA   -78.5550 -0.365833     3058  1962  NaN  11.4   \n",
       "\n",
       "     mar   abr   may   jun   jul   ago   sep   oct   nov   dic  \n",
       "42  16.5  16.0  16.2  16.6  16.2  16.2  16.5  15.7  15.0  15.5  \n",
       "82  11.0  11.2  11.2  10.5  11.5  11.1  12.0  11.7  11.4  11.1  "
      ]
     },
     "execution_count": 6,
     "metadata": {},
     "output_type": "execute_result"
    }
   ],
   "source": [
    "# Check rows with NaN values in an specific column\n",
    "# in second run, there are no Nan values\n",
    "df[df['ene'].isnull()]"
   ]
  },
  {
   "cell_type": "code",
   "execution_count": 7,
   "id": "e6545119-5f7a-4f45-98a9-07567708383f",
   "metadata": {},
   "outputs": [],
   "source": [
    "# fill NaN with 0\n",
    "# fillna returns a new dataframe with replaced values\n",
    "df = df.fillna(0)"
   ]
  },
  {
   "cell_type": "code",
   "execution_count": 8,
   "id": "87598631-453c-4bb4-8607-a4cd6a4fd79c",
   "metadata": {},
   "outputs": [
    {
     "name": "stdout",
     "output_type": "stream",
     "text": [
      "<class 'pandas.core.frame.DataFrame'>\n",
      "RangeIndex: 100 entries, 0 to 99\n",
      "Data columns (total 18 columns):\n",
      " #   Column          Non-Null Count  Dtype  \n",
      "---  ------          --------------  -----  \n",
      " 0   Estacion        100 non-null    object \n",
      " 1   NombreEstacion  100 non-null    object \n",
      " 2   longitud2       100 non-null    float64\n",
      " 3   latitud2        100 non-null    float64\n",
      " 4   altitud         100 non-null    int64  \n",
      " 5   anio            100 non-null    int64  \n",
      " 6   ene             100 non-null    float64\n",
      " 7   feb             100 non-null    float64\n",
      " 8   mar             100 non-null    float64\n",
      " 9   abr             100 non-null    float64\n",
      " 10  may             100 non-null    float64\n",
      " 11  jun             100 non-null    float64\n",
      " 12  jul             100 non-null    float64\n",
      " 13  ago             100 non-null    float64\n",
      " 14  sep             100 non-null    float64\n",
      " 15  oct             100 non-null    float64\n",
      " 16  nov             100 non-null    float64\n",
      " 17  dic             100 non-null    float64\n",
      "dtypes: float64(14), int64(2), object(2)\n",
      "memory usage: 14.2+ KB\n"
     ]
    }
   ],
   "source": [
    "# check data\n",
    "df.info()"
   ]
  },
  {
   "cell_type": "markdown",
   "id": "785121dd-d020-4a7e-ba59-32252ea863c3",
   "metadata": {},
   "source": [
    "## Checking data to train"
   ]
  },
  {
   "cell_type": "code",
   "execution_count": null,
   "id": "0ddce604-986e-491b-a299-92ed6398f9ce",
   "metadata": {},
   "outputs": [],
   "source": [
    "df[df.NombreEstacion == 'INGUINCHO'].anio"
   ]
  },
  {
   "cell_type": "code",
   "execution_count": 9,
   "id": "231bc40e-66a0-455d-b8f7-87486ddce894",
   "metadata": {},
   "outputs": [
    {
     "name": "stdout",
     "output_type": "stream",
     "text": [
      "<class 'numpy.ndarray'>\n",
      "<class 'numpy.ndarray'>\n"
     ]
    }
   ],
   "source": [
    "x_train = np.array(df[df.NombreEstacion == 'INGUINCHO'].anio)\n",
    "y_train = np.array(df[df.NombreEstacion == 'INGUINCHO'].feb)\n",
    "print(type(x_train))\n",
    "print(type(y_train))"
   ]
  },
  {
   "cell_type": "code",
   "execution_count": 10,
   "id": "912cd09e-03b6-4e94-8bac-8428ca2bbc27",
   "metadata": {},
   "outputs": [
    {
     "data": {
      "image/png": "[encoded data removed]",
      "text/plain": [
       "<Figure size 640x480 with 1 Axes>"
      ]
     },
     "metadata": {},
     "output_type": "display_data"
    }
   ],
   "source": [
    "# plot data\n",
    "\n",
    "# Plot the data points\n",
    "plt.scatter(x_train, y_train, marker='x', c='r')\n",
    "# Set the title\n",
    "plt.title(\"Media Temp\")\n",
    "# Set the y-axis label\n",
    "plt.ylabel('Precipitation')\n",
    "# Set the x-axis label\n",
    "plt.xlabel('Year')\n",
    "plt.show()"
   ]
  },
  {
   "cell_type": "markdown",
   "id": "50034e35-fd53-4da9-b074-c92dbc2dbfe0",
   "metadata": {},
   "source": [
    "As we can see, feb has some linear behaviour. in this case we can use linear regression as algorithm"
   ]
  },
  {
   "cell_type": "markdown",
   "id": "1ca387c9-14e5-4116-8e20-7c9270f41263",
   "metadata": {},
   "source": [
    "## Modeling"
   ]
  },
  {
   "cell_type": "code",
   "execution_count": 11,
   "id": "1423cfe4-6337-4cbe-b198-0cd8ac87fc57",
   "metadata": {},
   "outputs": [],
   "source": [
    "# MODEL PREDICTION\n",
    "def compute_model_output(x, w, b):\n",
    "    \"\"\"\n",
    "    Computes the prediction of a linear model\n",
    "    Args:\n",
    "      x (ndarray (m,)): Data, m examples \n",
    "      w,b (scalar)    : model parameters  \n",
    "    Returns\n",
    "      f_wb (ndarray (m,)): model prediction\n",
    "    \"\"\"\n",
    "    m = x.shape[0]\n",
    "    f_wb = np.zeros(m)\n",
    "    for i in range(m):\n",
    "        f_wb[i] = w * x[i] + b\n",
    "        \n",
    "    return f_wb"
   ]
  },
  {
   "cell_type": "code",
   "execution_count": 12,
   "id": "3d5ee491-5dfe-4c10-be7d-06cab1112927",
   "metadata": {},
   "outputs": [
    {
     "name": "stdout",
     "output_type": "stream",
     "text": [
      "(42,)\n"
     ]
    }
   ],
   "source": [
    "# initial values for paramaters w, b\n",
    "# we have to test values to generate a good output\n",
    "w_init = 0.005\n",
    "b_init = 0.3\n",
    "\n",
    "# compute output and cost\n",
    "pred = compute_model_output(x_train, w_init, b_init)\n",
    "print(pred.shape)"
   ]
  },
  {
   "cell_type": "code",
   "execution_count": 13,
   "id": "63d60b14-e9dc-425c-b037-af677f93ac89",
   "metadata": {},
   "outputs": [
    {
     "data": {
      "image/png": "[encoded data removed]",
      "text/plain": [
       "<Figure size 640x480 with 1 Axes>"
      ]
     },
     "metadata": {},
     "output_type": "display_data"
    }
   ],
   "source": [
    "# plot prediction\n",
    "plt.plot(x_train, pred, c='b',label='Our Prediction')\n",
    "\n",
    "# Plot the data points\n",
    "plt.scatter(x_train, y_train, marker='x', c='r',label='Actual Values')\n",
    "\n",
    "# Set the title\n",
    "plt.title(\"Media Temp\")\n",
    "# Set the y-axis label\n",
    "plt.ylabel('Precipitation')\n",
    "# Set the x-axis label\n",
    "plt.xlabel('Year')\n",
    "plt.legend()\n",
    "plt.show()"
   ]
  },
  {
   "cell_type": "markdown",
   "id": "da0974d3-8b3a-4f48-ba4b-36fd18ca19b9",
   "metadata": {},
   "source": [
    "## Cost Function"
   ]
  },
  {
   "cell_type": "code",
   "execution_count": 19,
   "id": "e6012c41-175c-4d33-8445-552d991ace43",
   "metadata": {},
   "outputs": [],
   "source": [
    "# COST FUNCTION\n",
    "\n",
    "def compute_cost(X, y, w, b): \n",
    "    \"\"\"\n",
    "    compute cost\n",
    "    Args:\n",
    "      X (ndarray (m,n)): Data, m examples with n features\n",
    "      y (ndarray (m,)) : target values\n",
    "      w (ndarray (n,)) : model parameters  \n",
    "      b (scalar)       : model parameter\n",
    "      \n",
    "    Returns:\n",
    "      cost (scalar): cost\n",
    "    \"\"\"\n",
    "    m = X.shape[0]\n",
    "    cost = np.float64(0.0)\n",
    "    #cost = 0.0\n",
    "    for i in range(m):                                \n",
    "        f_wb_i = np.dot(X[i], w) + b           #(n,)(n,) = scalar (see np.dot)\n",
    "        cost = cost + (f_wb_i - y[i])**2       #scalar\n",
    "    cost = cost / (2 * m)                      #scalar    \n",
    "    return cost"
   ]
  },
  {
   "cell_type": "code",
   "execution_count": 20,
   "id": "41826d47-4dcc-4e71-b1bf-b2b6a8914fd3",
   "metadata": {},
   "outputs": [
    {
     "name": "stdout",
     "output_type": "stream",
     "text": [
      "1.4956741071428576\n"
     ]
    }
   ],
   "source": [
    "cost = compute_cost(x_train, y_train, w_init, b_init)\n",
    "print(cost)"
   ]
  },
  {
   "cell_type": "markdown",
   "id": "46b4b527-d086-4c18-9d80-1fdf3db436e0",
   "metadata": {},
   "source": [
    "## Compute Gradient"
   ]
  },
  {
   "cell_type": "code",
   "execution_count": 21,
   "id": "ed18b0d6-060f-4d3c-bc3f-47014cc63a60",
   "metadata": {},
   "outputs": [],
   "source": [
    "# gradient base function\n",
    "\n",
    "def compute_gradient(x, y, w, b): \n",
    "    \"\"\"\n",
    "    Computes the gradient for linear regression \n",
    "    Args:\n",
    "      x (ndarray (m,)): Data, m examples \n",
    "      y (ndarray (m,)): target values\n",
    "      w,b (scalar)    : model parameters  \n",
    "    Returns\n",
    "      dj_dw (scalar): The gradient of the cost w.r.t. the parameters w\n",
    "      dj_db (scalar): The gradient of the cost w.r.t. the parameter b     \n",
    "     \"\"\"\n",
    "    \n",
    "    # Number of training examples\n",
    "    m = x.shape[0]    \n",
    "    dj_dw = 0\n",
    "    dj_db = 0\n",
    "    \n",
    "    for i in range(m):  \n",
    "        f_wb = w * x[i] + b \n",
    "        dj_dw_i = (f_wb - y[i]) * x[i] \n",
    "        dj_db_i = f_wb - y[i] \n",
    "        dj_db += dj_db_i\n",
    "        dj_dw += dj_dw_i \n",
    "    dj_dw = dj_dw / m \n",
    "    dj_db = dj_db / m \n",
    "        \n",
    "    return dj_dw, dj_db"
   ]
  },
  {
   "cell_type": "code",
   "execution_count": 22,
   "id": "d2e0ac26-7618-4ef1-8851-3e49d5032308",
   "metadata": {},
   "outputs": [
    {
     "name": "stdout",
     "output_type": "stream",
     "text": [
      "dj_db at initial w,b: 282.76964285714496\n",
      "dj_dw at initial w,b: \n",
      " 0.14250000000000096\n"
     ]
    }
   ],
   "source": [
    "#Compute and display gradient \n",
    "tmp_dj_db, tmp_dj_dw = compute_gradient(x_train, y_train, w_init, b_init)\n",
    "print(f'dj_db at initial w,b: {tmp_dj_db}')\n",
    "print(f'dj_dw at initial w,b: \\n {tmp_dj_dw}')"
   ]
  },
  {
   "cell_type": "code",
   "execution_count": 23,
   "id": "b3b07c19-5c06-4423-a13c-33a1b7422f45",
   "metadata": {},
   "outputs": [],
   "source": [
    "# compute the descent to get w and b values\n",
    "\n",
    "def gradient_descent(x, y, w_in, b_in, alpha, num_iters, cost_function, gradient_function): \n",
    "    \"\"\"\n",
    "    Performs gradient descent to fit w,b. Updates w,b by taking \n",
    "    num_iters gradient steps with learning rate alpha\n",
    "    \n",
    "    Args:\n",
    "      x (ndarray (m,))  : Data, m examples \n",
    "      y (ndarray (m,))  : target values\n",
    "      w_in,b_in (scalar): initial values of model parameters  \n",
    "      alpha (float):     Learning rate\n",
    "      num_iters (int):   number of iterations to run gradient descent\n",
    "      cost_function:     function to call to produce cost\n",
    "      gradient_function: function to call to produce gradient\n",
    "      \n",
    "    Returns:\n",
    "      w (scalar): Updated value of parameter after running gradient descent\n",
    "      b (scalar): Updated value of parameter after running gradient descent\n",
    "      J_history (List): History of cost values\n",
    "      p_history (list): History of parameters [w,b] \n",
    "      \"\"\"\n",
    "    \n",
    "    # An array to store cost J and w's at each iteration primarily for graphing later\n",
    "    J_history = []\n",
    "    p_history = []\n",
    "    b = b_in\n",
    "    w = w_in\n",
    "    \n",
    "    for i in range(num_iters):\n",
    "        # Calculate the gradient and update the parameters using gradient_function\n",
    "        dj_dw, dj_db = gradient_function(x, y, w , b)     \n",
    "\n",
    "        # Update Parameters using equation (3) above\n",
    "        b = b - alpha * dj_db                            \n",
    "        w = w - alpha * dj_dw                            \n",
    "\n",
    "        # Save cost J at each iteration\n",
    "        if i<100000:      # prevent resource exhaustion \n",
    "            J_history.append( cost_function(x, y, w , b))\n",
    "            p_history.append([w,b])\n",
    "        # Print cost every at intervals 10 times or as many iterations if < 10\n",
    "        if i% math.ceil(num_iters/10) == 0:\n",
    "            print(f\"Iteration {i:4}: Cost {J_history[-1]:0.2e} \",\n",
    "                  f\"dj_dw: {dj_dw: 0.3e}, dj_db: {dj_db: 0.3e}  \",\n",
    "                  f\"w: {w: 0.3e}, b:{b: 0.5e}\")\n",
    " \n",
    "    return w, b, J_history, p_history #return w and J,w history for graphing"
   ]
  },
  {
   "cell_type": "code",
   "execution_count": 24,
   "id": "b30972f4-0510-40a2-9bf7-17e524a92a4c",
   "metadata": {},
   "outputs": [
    {
     "name": "stdout",
     "output_type": "stream",
     "text": [
      "Iteration    0: Cost 1.82e+06  dj_dw:  3.976e+06, dj_db:  1.989e+03   w:  9.602e-01, b: 9.99980e-01\n",
      "Iteration 1000: Cost 1.49e+00  dj_dw: -5.204e-07, dj_db:  1.040e-03   w:  4.579e-03, b: 9.99502e-01\n",
      "Iteration 2000: Cost 1.49e+00  dj_dw: -5.204e-07, dj_db:  1.040e-03   w:  4.579e-03, b: 9.99502e-01\n",
      "Iteration 3000: Cost 1.49e+00  dj_dw: -5.204e-07, dj_db:  1.040e-03   w:  4.579e-03, b: 9.99502e-01\n",
      "Iteration 4000: Cost 1.49e+00  dj_dw: -5.204e-07, dj_db:  1.040e-03   w:  4.579e-03, b: 9.99502e-01\n",
      "Iteration 5000: Cost 1.49e+00  dj_dw: -5.204e-07, dj_db:  1.040e-03   w:  4.579e-03, b: 9.99502e-01\n",
      "Iteration 6000: Cost 1.49e+00  dj_dw: -5.204e-07, dj_db:  1.040e-03   w:  4.579e-03, b: 9.99502e-01\n",
      "Iteration 7000: Cost 1.49e+00  dj_dw: -5.204e-07, dj_db:  1.040e-03   w:  4.579e-03, b: 9.99502e-01\n",
      "Iteration 8000: Cost 1.49e+00  dj_dw: -5.204e-07, dj_db:  1.040e-03   w:  4.579e-03, b: 9.99502e-01\n",
      "Iteration 9000: Cost 1.49e+00  dj_dw: -5.204e-07, dj_db:  1.040e-03   w:  4.579e-03, b: 9.99502e-01\n",
      "(w,b) found by gradient descent: (  0.0046,  0.9995)\n"
     ]
    }
   ],
   "source": [
    "# run gradient descent\n",
    "\n",
    "# initialize parameters\n",
    "w_init_g = 1\n",
    "b_init_g = 1\n",
    "# Iterations\n",
    "iterations = 10000\n",
    "# Learning rate\n",
    "tmp_alpha = 1.0e-8\n",
    "# run gradient descent\n",
    "w_final, b_final, J_hist, p_hist = gradient_descent(x_train ,y_train, w_init_g, b_init_g, tmp_alpha, \n",
    "                                                    iterations, compute_cost, compute_gradient)\n",
    "print(f\"(w,b) found by gradient descent: ({w_final:8.4f},{b_final:8.4f})\")"
   ]
  },
  {
   "cell_type": "code",
   "execution_count": 25,
   "id": "bb518ea5-8738-4cb8-909f-078377f1cc6b",
   "metadata": {},
   "outputs": [
    {
     "name": "stdout",
     "output_type": "stream",
     "text": [
      "(42,)\n"
     ]
    }
   ],
   "source": [
    "# compute output and cost with new w, b values\n",
    "new_pred = compute_model_output(x_train, w_final, b_final)\n",
    "print(pred.shape)"
   ]
  },
  {
   "cell_type": "code",
   "execution_count": 26,
   "id": "1d4cdf57-80c3-44e0-a60a-4aced31582d0",
   "metadata": {},
   "outputs": [
    {
     "data": {
      "image/png": "[encoded data removed]",
      "text/plain": [
       "<Figure size 640x480 with 1 Axes>"
      ]
     },
     "metadata": {},
     "output_type": "display_data"
    }
   ],
   "source": [
    "# plot new prediction\n",
    "plt.plot(x_train, new_pred, c='b',label='Our Prediction')\n",
    "\n",
    "# Plot the data points\n",
    "plt.scatter(x_train, y_train, marker='x', c='r',label='Actual Values')\n",
    "\n",
    "# Set the title\n",
    "plt.title(\"Media Temp\")\n",
    "# Set the y-axis label\n",
    "plt.ylabel('Precipitation')\n",
    "# Set the x-axis label\n",
    "plt.xlabel('Year')\n",
    "plt.legend()\n",
    "plt.show()"
   ]
  },
  {
   "cell_type": "markdown",
   "id": "2d414829-5704-401a-b8f2-f22e61a18a3c",
   "metadata": {},
   "source": [
    "## Predict with new values"
   ]
  },
  {
   "cell_type": "code",
   "execution_count": 35,
   "id": "2b98be30-7fcd-404d-b1da-2c5135dc8b8d",
   "metadata": {},
   "outputs": [
    {
     "name": "stdout",
     "output_type": "stream",
     "text": [
      "[1978 1979 1980 1981 1982 1983 1984 1985 1986 1987 1988 1989 1990 1991\n",
      " 1992 1993 1994 1995 1996 1997 1998 1999 2000 2001 2002 2003 2004 2005\n",
      " 2006 2007 2008 2009 2010 2011 2012 2013 2014 2015 2016 2017 2018 2019]\n",
      "<class 'numpy.ndarray'>\n"
     ]
    }
   ],
   "source": [
    "#print(max(x_train))\n",
    "#print(max(y_train))\n",
    "print(x_train)\n",
    "print(type(x_train))"
   ]
  },
  {
   "cell_type": "code",
   "execution_count": 36,
   "id": "a14c8921-22e0-46d4-b6a8-4e1603a8ce77",
   "metadata": {},
   "outputs": [
    {
     "name": "stdout",
     "output_type": "stream",
     "text": [
      "[2020 2021 2022 2023 2024 2025 2026 2027 2028 2029]\n"
     ]
    }
   ],
   "source": [
    "# generate new inputs\n",
    "x_new = np.arange(2020, 2030)\n",
    "#print(x_new)\n",
    "\n",
    "# predict data with new inputs and optimized w and b\n",
    "pred_new_data = compute_model_output(x_new, w_final, b_final)"
   ]
  },
  {
   "cell_type": "code",
   "execution_count": 37,
   "id": "71c2f8e5-e7f7-4761-b578-cb65b63c0f1d",
   "metadata": {},
   "outputs": [
    {
     "data": {
      "image/png": "[encoded data removed]",
      "text/plain": [
       "<Figure size 640x480 with 1 Axes>"
      ]
     },
     "metadata": {},
     "output_type": "display_data"
    }
   ],
   "source": [
    "# Plot the original data points\n",
    "plt.scatter(x_train, y_train, marker='x', c='b', label='Actual Values')\n",
    "# Plot the predicted data points\n",
    "plt.scatter(x_new, pred_new_data, marker='x', c='r',label='Predicted Values')\n",
    "\n",
    "# Set the title\n",
    "plt.title(\"Media Temp\")\n",
    "# Set the y-axis label\n",
    "plt.ylabel('Precipitation')\n",
    "# Set the x-axis label\n",
    "plt.xlabel('Year')\n",
    "plt.legend()\n",
    "plt.show()"
   ]
  }
 ],
 "metadata": {
  "kernelspec": {
   "display_name": "Python 3 (ipykernel)",
   "language": "python",
   "name": "python3"
  },
  "language_info": {
   "codemirror_mode": {
    "name": "ipython",
    "version": 3
   },
   "file_extension": ".py",
   "mimetype": "text/x-python",
   "name": "python",
   "nbconvert_exporter": "python",
   "pygments_lexer": "ipython3",
   "version": "3.11.2"
  }
 },
 "nbformat": 4,
 "nbformat_minor": 5
}
